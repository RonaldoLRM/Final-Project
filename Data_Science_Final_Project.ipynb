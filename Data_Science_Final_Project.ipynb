{
 "cells": [
  {
   "cell_type": "markdown",
   "id": "c576e79e",
   "metadata": {},
   "source": [
    "# Data Science Final Project"
   ]
  },
  {
   "cell_type": "markdown",
   "id": "6359c682",
   "metadata": {},
   "source": [
    "## Introduction\n",
    "In this notebook, we will explore various tools and languages used in data science."
   ]
  },
  {
   "cell_type": "markdown",
   "id": "666613e2",
   "metadata": {},
   "source": [
    "## Data Science Languages\n",
    "- Python\n",
    "- R\n",
    "- SQL\n",
    "- Java\n",
    "- Scala"
   ]
  },
  {
   "cell_type": "markdown",
   "id": "a86a979c",
   "metadata": {},
   "source": [
    "## Data Science Libraries\n",
    "- Pandas\n",
    "- NumPy\n",
    "- Matplotlib\n",
    "- Scikit-learn\n",
    "- TensorFlow"
   ]
  },
  {
   "cell_type": "markdown",
   "id": "140e995f",
   "metadata": {},
   "source": [
    "## Data Science Tools\n",
    "| Tool | Description |\n",
    "|-------------|-------------|\n",
    "| Jupyter | Interactive development environment for notebooks |\n",
    "| RStudio | IDE for R |\n",
    "| Apache Spark | Processing engine for large-scale data |\n",
    "| TensorFlow | Library for machine learning |"
   ]
  },
  {
   "cell_type": "markdown",
   "id": "a84e2fd5",
   "metadata": {},
   "source": [
    "## Examples of Arithmetic Expressions\n",
    "Some basic operations include addition, subtraction, multiplication, and division."
   ]
  },
  {
   "cell_type": "code",
   "execution_count": null,
   "id": "57e8061f",
   "metadata": {},
   "outputs": [],
   "source": [
    "# Multiplication and addition\n",
    "result = (5 * 7) + 10\n",
    "result"
   ]
  },
  {
   "cell_type": "code",
   "execution_count": null,
   "id": "d5dc0e82",
   "metadata": {},
   "outputs": [],
   "source": [
    "# Convert minutes to hours\n",
    "minutes = 120\n",
    "hours = minutes / 60\n",
    "hours"
   ]
  },
  {
   "cell_type": "markdown",
   "id": "2fbabfd1",
   "metadata": {},
   "source": [
    "## Objectives\n",
    "1. Learn the fundamental concepts of data science.\n",
    "2. Apply key tools and languages in data science.\n",
    "3. Develop practical skills in Jupyter Notebooks."
   ]
  },
  {
   "cell_type": "markdown",
   "id": "35c3f8dc",
   "metadata": {},
   "source": [
    "## Author\n",
    "Author Name: [Your Name]"
   ]
  }
 ],
 "metadata": {
  "language_info": {
   "name": "python"
  }
 },
 "nbformat": 4,
 "nbformat_minor": 5
}
